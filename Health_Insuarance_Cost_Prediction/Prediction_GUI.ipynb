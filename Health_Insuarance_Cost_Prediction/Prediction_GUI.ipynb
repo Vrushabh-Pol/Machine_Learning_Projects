{
 "cells": [
  {
   "cell_type": "code",
   "execution_count": 1,
   "id": "d80d00be",
   "metadata": {},
   "outputs": [
    {
     "name": "stderr",
     "output_type": "stream",
     "text": [
      "/Library/Frameworks/Python.framework/Versions/3.11/lib/python3.11/site-packages/sklearn/base.py:420: UserWarning: X does not have valid feature names, but GradientBoostingRegressor was fitted with feature names\n",
      "  warnings.warn(\n"
     ]
    }
   ],
   "source": [
    "import tkinter as tk\n",
    "import joblib \n",
    "\n",
    "\n",
    "def show_entry():\n",
    "    p1 = float(e1.get())\n",
    "    p2 = float(e2.get())\n",
    "    p3 = float(e3.get())\n",
    "    p4 = float(e4.get())\n",
    "    p5 = float(e5.get())\n",
    "    p6 = float(e6.get())\n",
    "\n",
    "    model = joblib.load('model_joblib_gr')\n",
    "    result = model.predict([[p1, p2, p3, p4, p5, p6]])\n",
    "\n",
    "    tk.Label(master, text='Insurance Cost').grid(row=7)\n",
    "    tk.Label(master, text=result).grid(row=8)\n",
    "\n",
    "\n",
    "# Create a Tkinter window\n",
    "master = tk.Tk()\n",
    "master.title('Insurance Cost Prediction')\n",
    "\n",
    "label = tk.Label(master, text='Insurance Cost Prediction', bg='black', fg='white')\n",
    "label.grid(row=0, columnspan=2)\n",
    "\n",
    "tk.Label(master, text='Enter Your Age').grid(row=1)\n",
    "tk.Label(master, text='Male or Female[1/0]').grid(row=2)\n",
    "tk.Label(master, text='Enter Your BMI value').grid(row=3)\n",
    "tk.Label(master, text='Enter No of children').grid(row=4)\n",
    "tk.Label(master, text='Smoker Yes/No [1/0]').grid(row=5)\n",
    "tk.Label(master, text='Region [1-4]').grid(row=6)\n",
    "\n",
    "e1 = tk.Entry(master)\n",
    "e2 = tk.Entry(master)\n",
    "e3 = tk.Entry(master)\n",
    "e4 = tk.Entry(master)\n",
    "e5 = tk.Entry(master)\n",
    "e6 = tk.Entry(master)\n",
    "\n",
    "e1.grid(row=1, column=1)\n",
    "e2.grid(row=2, column=1)\n",
    "e3.grid(row=3, column=1)\n",
    "e4.grid(row=4, column=1)\n",
    "e5.grid(row=5, column=1)\n",
    "e6.grid(row=6, column=1)\n",
    "\n",
    "tk.Button(master, text='Predict', command=show_entry).grid(row=7, columnspan=2)\n",
    "\n",
    "# Start the Tkinter event loop\n",
    "master.mainloop()"
   ]
  },
  {
   "cell_type": "code",
   "execution_count": null,
   "id": "e4c5e1d0",
   "metadata": {},
   "outputs": [],
   "source": []
  }
 ],
 "metadata": {
  "kernelspec": {
   "display_name": "Python 3 (ipykernel)",
   "language": "python",
   "name": "python3"
  },
  "language_info": {
   "codemirror_mode": {
    "name": "ipython",
    "version": 3
   },
   "file_extension": ".py",
   "mimetype": "text/x-python",
   "name": "python",
   "nbconvert_exporter": "python",
   "pygments_lexer": "ipython3",
   "version": "3.11.1"
  }
 },
 "nbformat": 4,
 "nbformat_minor": 5
}
